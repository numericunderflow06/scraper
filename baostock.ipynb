{
 "cells": [
  {
   "cell_type": "code",
   "execution_count": 7,
   "id": "f3d6cc78",
   "metadata": {},
   "outputs": [
    {
     "name": "stdout",
     "output_type": "stream",
     "text": [
      "login success!\n",
      "login respond error_code:0\n",
      "login respond  error_msg:success\n",
      "query_history_k_data_plus respond error_code:10004012\n",
      "query_history_k_data_plus respond  error_msg:5分钟线指标参数传入错误:preclose\n",
      "Empty DataFrame\n",
      "Columns: []\n",
      "Index: []\n",
      "logout success!\n"
     ]
    },
    {
     "data": {
      "text/plain": [
       "<baostock.data.resultset.ResultData at 0x1e9fb942600>"
      ]
     },
     "execution_count": 7,
     "metadata": {},
     "output_type": "execute_result"
    }
   ],
   "source": [
    "#%pip install baostock\n",
    "\n",
    "import baostock as bs\n",
    "import pandas as pd\n",
    "\n",
    "#### 登陆系统 ####\n",
    "lg = bs.login()\n",
    "# 显示登陆返回信息\n",
    "print('login respond error_code:'+lg.error_code)\n",
    "print('login respond  error_msg:'+lg.error_msg)\n",
    "\n",
    "#### 获取历史K线数据 ####\n",
    "# 详细指标参数，参见“历史行情指标参数”章节\n",
    "rs = bs.query_history_k_data_plus(\"sh.601398\",\n",
    "    \"date,code,open,high,low,close,preclose,volume,amount,adjustflag,turn,tradestatus,pctChg,peTTM,pbMRQ,psTTM,pcfNcfTTM,isST\",\n",
    "    start_date='2017-06-01', end_date='2017-06-02', \n",
    "    frequency=\"5\", adjustflag=\"3\") #frequency=\"d\"取日k线，adjustflag=\"3\"默认不复权\n",
    "print('query_history_k_data_plus respond error_code:'+rs.error_code)\n",
    "print('query_history_k_data_plus respond  error_msg:'+rs.error_msg)\n",
    "\n",
    "#### 打印结果集 ####\n",
    "data_list = []\n",
    "while (rs.error_code == '0') & rs.next():\n",
    "    # 获取一条记录，将记录合并在一起\n",
    "    data_list.append(rs.get_row_data())\n",
    "result = pd.DataFrame(data_list, columns=rs.fields)\n",
    "#### 结果集输出到csv文件 ####\n",
    "result.to_csv(\"history_k_0data.csv\", encoding=\"gbk\", index=False)\n",
    "print(result)\n",
    "\n",
    "#### 登出系统 ####\n",
    "bs.logout()"
   ]
  },
  {
   "cell_type": "code",
   "execution_count": 9,
   "id": "9b28c638",
   "metadata": {},
   "outputs": [
    {
     "name": "stdout",
     "output_type": "stream",
     "text": [
      "login success!\n",
      "login respond error_code:0\n",
      "login respond  error_msg:success\n",
      "query_history_k_data_plus respond error_code:0\n",
      "query_history_k_data_plus respond  error_msg:success\n",
      "            date               time       code     open     high      low  \\\n",
      "0     2024-07-01  20240701093500000  sh.600000   8.2200   8.2600   8.2100   \n",
      "1     2024-07-01  20240701094000000  sh.600000   8.2400   8.2400   8.2200   \n",
      "2     2024-07-01  20240701094500000  sh.600000   8.2400   8.2500   8.2300   \n",
      "3     2024-07-01  20240701095000000  sh.600000   8.2300   8.2400   8.2300   \n",
      "4     2024-07-01  20240701095500000  sh.600000   8.2300   8.2600   8.2300   \n",
      "...          ...                ...        ...      ...      ...      ...   \n",
      "5995  2024-12-31  20241231144000000  sh.600000  10.3300  10.3500  10.3200   \n",
      "5996  2024-12-31  20241231144500000  sh.600000  10.3300  10.3600  10.3200   \n",
      "5997  2024-12-31  20241231145000000  sh.600000  10.3600  10.3700  10.3200   \n",
      "5998  2024-12-31  20241231145500000  sh.600000  10.3300  10.3300  10.3000   \n",
      "5999  2024-12-31  20241231150000000  sh.600000  10.3100  10.3100  10.2900   \n",
      "\n",
      "        close   volume         amount adjustflag  \n",
      "0      8.2300  1396900  11516198.0000          3  \n",
      "1      8.2400   552800   4551811.0000          3  \n",
      "2      8.2400   637000   5247083.0000          3  \n",
      "3      8.2300   526000   4331764.0000          3  \n",
      "4      8.2500   872200   7194432.0000          3  \n",
      "...       ...      ...            ...        ...  \n",
      "5995  10.3300  1520700  15718720.0000          3  \n",
      "5996  10.3600  2468700  25508256.0000          3  \n",
      "5997  10.3300  1670700  17285600.0000          3  \n",
      "5998  10.3100  2822800  29113915.0000          3  \n",
      "5999  10.2900  2855700  29389309.0000          3  \n",
      "\n",
      "[6000 rows x 10 columns]\n",
      "logout success!\n"
     ]
    },
    {
     "data": {
      "text/plain": [
       "<baostock.data.resultset.ResultData at 0x1e9fc15f830>"
      ]
     },
     "execution_count": 9,
     "metadata": {},
     "output_type": "execute_result"
    }
   ],
   "source": [
    "import baostock as bs\n",
    "import pandas as pd\n",
    "\n",
    "#### 登陆系统 ####\n",
    "lg = bs.login()\n",
    "# 显示登陆返回信息\n",
    "print('login respond error_code:'+lg.error_code)\n",
    "print('login respond  error_msg:'+lg.error_msg)\n",
    "\n",
    "#### 获取沪深A股历史K线数据 ####\n",
    "# 详细指标参数，参见“历史行情指标参数”章节；“分钟线”参数与“日线”参数不同。“分钟线”不包含指数。\n",
    "# 分钟线指标：date,time,code,open,high,low,close,volume,amount,adjustflag\n",
    "# 周月线指标：date,code,open,high,low,close,volume,amount,adjustflag,turn,pctChg\n",
    "rs = bs.query_history_k_data_plus(\"sh.600000\",\n",
    "    \"date,time,code,open,high,low,close,volume,amount,adjustflag\",\n",
    "    start_date='2024-07-01', end_date='2024-12-31',\n",
    "    frequency=\"5\", adjustflag=\"3\")\n",
    "print('query_history_k_data_plus respond error_code:'+rs.error_code)\n",
    "print('query_history_k_data_plus respond  error_msg:'+rs.error_msg)\n",
    "\n",
    "#### 打印结果集 ####\n",
    "data_list = []\n",
    "while (rs.error_code == '0') & rs.next():\n",
    "    # 获取一条记录，将记录合并在一起\n",
    "    data_list.append(rs.get_row_data())\n",
    "result = pd.DataFrame(data_list, columns=rs.fields)\n",
    "\n",
    "#### 结果集输出到csv文件 ####   \n",
    "result.to_csv(\"history_A_stock_k_data.csv\", index=False)\n",
    "print(result)\n",
    "\n",
    "#### 登出系统 ####\n",
    "bs.logout()"
   ]
  },
  {
   "cell_type": "code",
   "execution_count": 13,
   "id": "9846098a",
   "metadata": {},
   "outputs": [
    {
     "name": "stdout",
     "output_type": "stream",
     "text": [
      "login success!\n"
     ]
    },
    {
     "ename": "AttributeError",
     "evalue": "module 'baostock' has no attribute 'query_history_transaction_data'",
     "output_type": "error",
     "traceback": [
      "\u001b[31m---------------------------------------------------------------------------\u001b[39m",
      "\u001b[31mAttributeError\u001b[39m                            Traceback (most recent call last)",
      "\u001b[36mCell\u001b[39m\u001b[36m \u001b[39m\u001b[32mIn[13]\u001b[39m\u001b[32m, line 13\u001b[39m\n\u001b[32m     10\u001b[39m code = \u001b[33m\"\u001b[39m\u001b[33msz.000001\u001b[39m\u001b[33m\"\u001b[39m       \u001b[38;5;66;03m# ← 把这里改成你想要的股票\u001b[39;00m\n\u001b[32m     12\u001b[39m \u001b[38;5;66;03m# 3）拉取该股票当日逐笔成交明细\u001b[39;00m\n\u001b[32m---> \u001b[39m\u001b[32m13\u001b[39m rs = \u001b[43mbs\u001b[49m\u001b[43m.\u001b[49m\u001b[43mquery_history_transaction_data\u001b[49m(code=code, date=day)\n\u001b[32m     14\u001b[39m data = []\n\u001b[32m     15\u001b[39m \u001b[38;5;28;01mwhile\u001b[39;00m rs.error_code == \u001b[33m'\u001b[39m\u001b[33m0\u001b[39m\u001b[33m'\u001b[39m \u001b[38;5;129;01mand\u001b[39;00m rs.next():\n",
      "\u001b[31mAttributeError\u001b[39m: module 'baostock' has no attribute 'query_history_transaction_data'"
     ]
    }
   ],
   "source": [
    "import baostock as bs\n",
    "import pandas as pd\n",
    "\n",
    "# 1）登录\n",
    "lg = bs.login()\n",
    "assert lg.error_code == '0'\n",
    "\n",
    "# 2）指定交易日和目标股票\n",
    "day = \"2025-05-13\"\n",
    "code = \"sz.000001\"       # ← 把这里改成你想要的股票\n",
    "\n",
    "# 3）拉取该股票当日逐笔成交明细\n",
    "rs = bs.query_history_transaction_data(code=code, date=day)\n",
    "data = []\n",
    "while rs.error_code == '0' and rs.next():\n",
    "    data.append(rs.get_row_data())\n",
    "df = pd.DataFrame(data, columns=rs.fields)\n",
    "\n",
    "print(df)  # 只包含 sz.000001 这只股票的所有成交记录\n",
    "# 登录后：\n",
    "rs_all = bs.query_all_stock(day=day)\n",
    "df_all = rs_all.get_data()    # 拿到所有在市证券的 code、code_name 等信息\n",
    "# 在这个 DataFrame 里筛选出你想要的那只，比如搜索“工商银行”\n",
    "target = df_all[df_all['code_name'].str.contains(\"工商银行\", na=False)]\n",
    "print(target)\n",
    "print(df_all)\n",
    "# 得到 code 后，再如上示例调用即可\n",
    "df_all.to_csv(\"all_stock.csv\", index=False)\n",
    "# 4）登出\n",
    "bs.logout()\n"
   ]
  },
  {
   "cell_type": "code",
   "execution_count": 14,
   "id": "4069abad",
   "metadata": {},
   "outputs": [
    {
     "name": "stdout",
     "output_type": "stream",
     "text": [
      "login success!\n",
      "          date       code     open     high      low    close     volume  \\\n",
      "0   2025-01-02  sz.000001  11.7300  11.7700  11.3900  11.4300  181959699   \n",
      "1   2025-01-03  sz.000001  11.4400  11.5400  11.3600  11.3800  115468044   \n",
      "2   2025-01-06  sz.000001  11.3800  11.4800  11.2200  11.4400  108553630   \n",
      "3   2025-01-07  sz.000001  11.4200  11.5300  11.3700  11.5100   74786288   \n",
      "4   2025-01-08  sz.000001  11.5000  11.6300  11.4000  11.5000  106238601   \n",
      "..         ...        ...      ...      ...      ...      ...        ...   \n",
      "78  2025-05-06  sz.000001  10.9200  11.0000  10.8900  10.9600   85467127   \n",
      "79  2025-05-07  sz.000001  11.0100  11.0400  10.9700  11.0300  112627001   \n",
      "80  2025-05-08  sz.000001  11.0000  11.0800  10.9900  11.0800  105661366   \n",
      "81  2025-05-09  sz.000001  11.0700  11.1700  11.0600  11.1500   99989747   \n",
      "82  2025-05-12  sz.000001  11.1600  11.2200  11.1300  11.1600   89560460   \n",
      "\n",
      "             amount  \n",
      "0   2102923078.1100  \n",
      "1   1320520977.5900  \n",
      "2   1234305778.0400  \n",
      "3    858329048.5400  \n",
      "4   1223598996.5600  \n",
      "..              ...  \n",
      "78   935212114.4900  \n",
      "79  1240098147.3900  \n",
      "80  1167913497.8800  \n",
      "81  1113688152.8000  \n",
      "82  1000478411.1800  \n",
      "\n",
      "[83 rows x 8 columns]\n",
      "        code code_name     ipoDate outDate type status\n",
      "0  sz.000001      平安银行  1991-04-03            1      1\n",
      "logout success!\n"
     ]
    },
    {
     "data": {
      "text/plain": [
       "<baostock.data.resultset.ResultData at 0x1e9fb961ac0>"
      ]
     },
     "execution_count": 14,
     "metadata": {},
     "output_type": "execute_result"
    }
   ],
   "source": [
    "import baostock as bs\n",
    "import pandas as pd\n",
    "\n",
    "# 1. 登录\n",
    "bs.login()\n",
    "\n",
    "# 2. 查询“平安银行”日 K 线\n",
    "code = \"sz.000001\"  # 平安银行\n",
    "rs = bs.query_history_k_data_plus(\n",
    "    code,\n",
    "    \"date,code,open,high,low,close,volume,amount\",\n",
    "    start_date='2025-01-01', end_date='2025-05-12',\n",
    "    frequency=\"d\", adjustflag=\"3\"\n",
    ")\n",
    "data = []\n",
    "while rs.error_code == '0' and rs.next():\n",
    "    data.append(rs.get_row_data())\n",
    "df = pd.DataFrame(data, columns=rs.fields)\n",
    "print(df)\n",
    "\n",
    "# 3. 查询该股票基本资料\n",
    "rs2 = bs.query_stock_basic(code=code)\n",
    "info = rs2.get_data()\n",
    "print(info)\n",
    "\n",
    "# 4. 登出\n",
    "bs.logout()\n"
   ]
  },
  {
   "cell_type": "code",
   "execution_count": 5,
   "id": "cc548462",
   "metadata": {},
   "outputs": [
    {
     "name": "stdout",
     "output_type": "stream",
     "text": [
      "login success!\n",
      "Empty DataFrame\n",
      "Columns: []\n",
      "Index: []\n",
      "logout success!\n"
     ]
    },
    {
     "data": {
      "text/plain": [
       "<baostock.data.resultset.ResultData at 0x1e9fb941040>"
      ]
     },
     "execution_count": 5,
     "metadata": {},
     "output_type": "execute_result"
    }
   ],
   "source": [
    "import baostock as bs\n",
    "import pandas as pd\n",
    "\n",
    "# 1）登录\n",
    "lg = bs.login()\n",
    "\n",
    "# 2）获取 5 分钟 K 线数据（可改为 \"15\"/\"30\"/\"60\"）\n",
    "rs = bs.query_history_k_data_plus(\n",
    "    \"sh.601398\",  # 股票代码\n",
    "    \"date,time,code,open,high,low,close,volume,amount,adjustflag\",\n",
    "    start_date='2017-06-01', end_date='2017-06-03',\n",
    "    frequency=\"5m\",   # 5 分钟线\n",
    "    adjustflag=\"3\"   # 不复权\n",
    ")\n",
    "\n",
    "# 3）取出并转换为 DataFrame\n",
    "data_list = []\n",
    "while rs.error_code == '0' and rs.next():\n",
    "    data_list.append(rs.get_row_data())\n",
    "df = pd.DataFrame(data_list, columns=rs.fields)\n",
    "print(df)\n",
    "\n",
    "# 4）登出\n",
    "bs.logout()\n"
   ]
  }
 ],
 "metadata": {
  "kernelspec": {
   "display_name": "Python 3",
   "language": "python",
   "name": "python3"
  },
  "language_info": {
   "codemirror_mode": {
    "name": "ipython",
    "version": 3
   },
   "file_extension": ".py",
   "mimetype": "text/x-python",
   "name": "python",
   "nbconvert_exporter": "python",
   "pygments_lexer": "ipython3",
   "version": "3.12.8"
  }
 },
 "nbformat": 4,
 "nbformat_minor": 5
}
